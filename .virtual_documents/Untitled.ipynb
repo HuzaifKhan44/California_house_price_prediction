import pandas as pd


df=pd.read_csv("housing.csv")


df.head()


df.describe()


df.info()


df['ocean_proximity'].value_counts()


import matplotlib.pyplot as plt



df.hist(bins=50,figsize=(12,8))



